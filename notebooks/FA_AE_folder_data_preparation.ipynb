{
 "cells": [
  {
   "cell_type": "code",
   "execution_count": 1,
   "metadata": {},
   "outputs": [],
   "source": [
    "import numpy as np\n",
    "# import seaborn as sns\n",
    "import pandas as pd\n",
    "import os.path\n",
    "\n",
    "import matplotlib.pyplot as plt\n",
    "\n",
    "import tifffile \n",
    "import czifile\n",
    "\n",
    "from skimage import transform\n",
    "from scipy import ndimage\n",
    "\n",
    "import random \n",
    "import math"
   ]
  },
  {
   "cell_type": "code",
   "execution_count": 2,
   "metadata": {},
   "outputs": [],
   "source": [
    "patch_size = 32\n",
    "half_ps = 16\n",
    "half_half_ps = 8\n",
    "double_ps = 64\n",
    "double_double_ps = 128\n",
    "\n",
    "major_ch = 1\n"
   ]
  },
  {
   "cell_type": "code",
   "execution_count": 3,
   "metadata": {},
   "outputs": [],
   "source": [
    "def rotate_coor(x_i,y_i,x_c,y_c,rotate_angle):\n",
    " \n",
    "    rotate_angle = rotate_angle*np.pi/180\n",
    " \n",
    "    x_o = (x_i-x_c)*math.cos(rotate_angle) - (2*y_c-y_i-y_c)*math.sin(rotate_angle) +x_c\n",
    "    y_o = -(x_i-x_c)*math.sin(rotate_angle) - (2*y_c-y_i-y_c)*math.cos(rotate_angle) +(2*y_c-y_c)\n",
    "\n",
    "    return([x_o,y_o])"
   ]
  },
  {
   "cell_type": "code",
   "execution_count": 4,
   "metadata": {},
   "outputs": [],
   "source": [
    "image_folder = '/mnt/d/lding/FA/data/FA_ML_Annabel_20250217/031125/Control'\n",
    "cell_mask_folder = '/mnt/d/lding/FA/analysis_results/FA_ML_Annabel_20250217/031125/ctrl_ch1_major/code_org_20250422_seg/mask'"
   ]
  },
  {
   "cell_type": "code",
   "execution_count": 5,
   "metadata": {},
   "outputs": [],
   "source": [
    "from datetime import datetime\n",
    "now = datetime.now()\n",
    "\n",
    "time_str = now.strftime(\"%Y%m%d-%H%M\")"
   ]
  },
  {
   "cell_type": "code",
   "execution_count": 6,
   "metadata": {},
   "outputs": [
    {
     "data": {
      "text/plain": [
       "'20250507-1001'"
      ]
     },
     "execution_count": 6,
     "metadata": {},
     "output_type": "execute_result"
    }
   ],
   "source": [
    "time_str"
   ]
  },
  {
   "cell_type": "code",
   "execution_count": 7,
   "metadata": {},
   "outputs": [],
   "source": [
    "\n",
    "\n",
    "movie_partitioned_data_dir = '/mnt/d/lding/FA/analysis_results/FA_ML_Annabel_20250217/031125/ctrl_ch1_major/patches32_40p_'+time_str\n",
    "movie_plot_dir = '/mnt/d/lding/FA/analysis_results/FA_ML_Annabel_20250217/031125/ctrl_ch1_major/patches_plot32_40p_'+time_str\n",
    "os.makedirs(movie_partitioned_data_dir,exist_ok=True)\n",
    "os.makedirs(movie_plot_dir,exist_ok=True)\n"
   ]
  },
  {
   "cell_type": "code",
   "execution_count": 8,
   "metadata": {},
   "outputs": [],
   "source": [
    "data_prep_record = pd.DataFrame(columns={'image_folder','filename','filenameID','x_c','y_c','rand_angle','rand_tx','rand_ty',\n",
    "                            'x_corner1','x_corner2','x_corner3','x_corner4','y_corner1','y_corner2','y_corner3','y_corner4',\n",
    "                            'movie_partitioned_data_dir','crop_img_filename','movie_plot_dir','plot_filename'})"
   ]
  },
  {
   "cell_type": "code",
   "execution_count": 9,
   "metadata": {},
   "outputs": [
    {
     "name": "stderr",
     "output_type": "stream",
     "text": [
      "/home/ldin/anaconda3/envs/segmentation/lib/python3.7/site-packages/ipykernel_launcher.py:95: MatplotlibDeprecationWarning: savefig() got unexpected keyword argument \"bbox_inch\" which is no longer supported as of 3.3 and will become an error in 3.6\n"
     ]
    }
   ],
   "source": [
    "filenames = [x for x in os.listdir(image_folder) if os.path.isfile(os.path.join(image_folder, x)) and ('.czi' in x)]\n",
    "\n",
    "for filenameID in range(7,12): # len(filenames)):\n",
    "# for filenameID in range(0,1):\n",
    "    filename = filenames[filenameID]\n",
    "    train_img = czifile.imread(os.path.join(image_folder, filename)).squeeze()[major_ch,:,:].astype(float)/255/255\n",
    "    train_seg = tifffile.imread(os.path.join(cell_mask_folder, \"cell_mask_\"+filename+\".tif\")).squeeze().astype(float)\n",
    "\n",
    "    fig_accu, ax_accu = plt.subplots(1,2, figsize=(15.6,7.8), dpi=256, facecolor='w', edgecolor='k')\n",
    "    ax_accu[0].imshow(train_img, cmap=plt.cm.gray,vmax=1,vmin=0)\n",
    "    ax_accu[1].imshow(train_seg, cmap=plt.cm.gray,vmax=1,vmin=0)    \n",
    "    \n",
    "    x_num = int(np.floor(train_img.shape[1]/patch_size))\n",
    "    y_num = int(np.floor(train_img.shape[0]/patch_size))\n",
    "    \n",
    "    x_0 = int((train_img.shape[1] - x_num*patch_size)/2)\n",
    "    y_0 = int((train_img.shape[0] - y_num*patch_size)/2)\n",
    "    \n",
    "            \n",
    "    for x_i in range(x_num):\n",
    "        for y_i in range(y_num):\n",
    "\n",
    "            y_c = int(y_0+(y_i-0.5)*patch_size)\n",
    "            x_c = int(x_0+(x_i-0.5)*patch_size)\n",
    "\n",
    "            y_left = y_c - patch_size\n",
    "            x_left = x_c - patch_size\n",
    "\n",
    "            y_right = y_c + patch_size\n",
    "            x_right = x_c + patch_size\n",
    "\n",
    "\n",
    "            if y_left < 0 or x_left < 0 or y_right >= train_img.shape[0] or x_right >= train_img.shape[1]:\n",
    "                continue\n",
    "\n",
    "            patch_img = train_img[y_left:y_right,x_left:x_right]\n",
    "            patch_seg = train_seg[y_left:y_right,x_left:x_right]\n",
    "            rand_angle = random.random() * 360\n",
    "            rand_tx = int(random.random() * half_ps - half_half_ps)\n",
    "            rand_ty = int(random.random() * half_ps - half_half_ps)\n",
    "            \n",
    "\n",
    "            rotated_patch_img = transform.rotate(patch_img, rand_angle, resize=False, center=None, order=None, mode='constant', cval=0, clip=True)\n",
    "            rotated_patch_seg = transform.rotate(patch_seg, rand_angle, resize=False, center=None, order=None, mode='constant', cval=0, clip=True)\n",
    "                            \n",
    "            cx_left = half_ps-rand_tx\n",
    "            cx_right = patch_size+half_ps-rand_tx\n",
    "            cy_up = half_ps-rand_ty\n",
    "            cy_down = patch_size+half_ps-rand_ty\n",
    "\n",
    "            crop_patch_img = rotated_patch_img[half_ps-rand_ty:patch_size+half_ps-rand_ty,half_ps-rand_tx:patch_size+half_ps-rand_tx]\n",
    "            crop_patch_seg = rotated_patch_seg[half_ps-rand_ty:patch_size+half_ps-rand_ty,half_ps-rand_tx:patch_size+half_ps-rand_tx]\n",
    "\n",
    "            if((crop_patch_seg.mean())<0.4):\n",
    "                continue\n",
    "\n",
    "            crop_img_filename = 'c'+str(filenameID).zfill(4)+'x'+str(x_c).zfill(4)+'y'+str(y_c).zfill(4)+'ps'+str(patch_size)+'.tif'\n",
    "            tifffile.imsave(os.path.join(movie_partitioned_data_dir,crop_img_filename), crop_patch_img.astype(float)                                        )\n",
    "\n",
    "\n",
    "            X_TransRotCrop = np.array([cx_left, cx_left, cx_right, cx_right, cx_left])\n",
    "            Y_TransRotCrop = np.array([cy_up, cy_down, cy_down, cy_up, cy_up])\n",
    "\n",
    "            [X_bigger_patch, Y_bigger_patch] = rotate_coor(X_TransRotCrop,Y_TransRotCrop,patch_size,patch_size,-rand_angle)\n",
    "\n",
    "\n",
    "            fig, ax = plt.subplots(2,4, figsize=(15.6,7.8), dpi=256, facecolor='w', edgecolor='k')\n",
    "            ax[0,0].imshow(train_img, cmap=plt.cm.gray,vmax=1,vmin=0)\n",
    "            ax[0,0].plot([x_left, x_left, x_right, x_right, x_left],[y_left,y_right, y_right, y_left,y_left],color='r')\n",
    "            ax[0,0].plot(X_bigger_patch+x_left, Y_bigger_patch+y_left,color='green')\n",
    "\n",
    "            ax[0,1].imshow(train_seg, cmap=plt.cm.gray,vmax=1,vmin=0)\n",
    "            ax[0,1].plot([x_left, x_left, x_right, x_right, x_left],[y_left,y_right, y_right, y_left,y_left],color='r')\n",
    "            ax[0,0].plot(X_bigger_patch+x_left, Y_bigger_patch+y_left,color='green')\n",
    "            \n",
    "\n",
    "            ax[0,2].imshow(patch_img, cmap=plt.cm.gray,vmax=1,vmin=0)\n",
    "            ax[0,2].plot(X_bigger_patch, Y_bigger_patch,color='green')\n",
    "\n",
    "            ax[0,3].imshow(patch_seg, cmap=plt.cm.gray,vmax=1,vmin=0)\n",
    "            ax[0,3].plot(X_bigger_patch, Y_bigger_patch,color='green')\n",
    "\n",
    "            ax[1,0].imshow(rotated_patch_img, cmap=plt.cm.gray,vmax=1,vmin=0)\n",
    "            ax[1,0].plot([half_ps-rand_tx, half_ps-rand_tx, patch_size+half_ps-rand_tx, patch_size+half_ps-rand_tx, half_ps-rand_tx],\n",
    "                         [half_ps-rand_ty,patch_size+half_ps-rand_ty, patch_size+half_ps-rand_ty, half_ps-rand_ty,half_ps-rand_ty],color='r')\n",
    "\n",
    "            ax[1,1].imshow(rotated_patch_seg, cmap=plt.cm.gray,vmax=1,vmin=0)\n",
    "            ax[1,1].plot([half_ps-rand_tx, half_ps-rand_tx, patch_size+half_ps-rand_tx, patch_size+half_ps-rand_tx, half_ps-rand_tx],\n",
    "                         [half_ps-rand_ty,patch_size+half_ps-rand_ty, patch_size+half_ps-rand_ty, half_ps-rand_ty,half_ps-rand_ty],color='r')\n",
    "\n",
    "            ax[1,2].imshow(crop_patch_img, cmap=plt.cm.gray,vmax=1,vmin=0)\n",
    "            ax[1,3].imshow(crop_patch_seg, cmap=plt.cm.gray,vmax=1,vmin=0)\n",
    "            \n",
    "            plot_filename = 'plot_grid_t'+str(filenameID).zfill(4)+'_xc'+str(x_c)+'_yc'+str(y_c)+ '.png'\n",
    "            fig.savefig(os.path.join(movie_plot_dir,plot_filename),bbox_inch='tight')\n",
    "            plt.close(fig) \n",
    "            \n",
    "            ax_accu[0].plot(X_bigger_patch+x_left, Y_bigger_patch+y_left,color='green')\n",
    "            ax_accu[1].plot(X_bigger_patch+x_left, Y_bigger_patch+y_left,color='green')\n",
    "            \n",
    "            s = pd.Series([image_folder, filename, filenameID, x_c,y_c,rand_angle,rand_tx,rand_ty,\n",
    "                X_bigger_patch[0]+x_left,X_bigger_patch[1]+x_left,X_bigger_patch[2]+x_left,X_bigger_patch[3]+x_left,\n",
    "                Y_bigger_patch[0]+y_left,Y_bigger_patch[1]+y_left,Y_bigger_patch[2]+y_left,Y_bigger_patch[3]+y_left,\n",
    "                movie_partitioned_data_dir,crop_img_filename,movie_plot_dir,plot_filename],\n",
    "                index=['image_folder','filename','filenameID','x_c','y_c','rand_angle','rand_tx','rand_ty',\n",
    "                                        'x_corner1','x_corner2','x_corner3','x_corner4','y_corner1','y_corner2','y_corner3','y_corner4',\n",
    "                                        'movie_partitioned_data_dir','crop_img_filename','movie_plot_dir','plot_filename'])\n",
    "            \n",
    "            data_prep_record = data_prep_record.append(s,ignore_index=True)\n",
    "\n",
    "    data_prep_record.to_csv(os.path.join(movie_plot_dir,'data_prep_record_'+str(filenameID)+'_t'+str(filenameID)+'.csv'))\n",
    "\n",
    "    fig_accu.savefig(os.path.join(movie_plot_dir,'grid_t'+str(filenameID).zfill(4)+'.png'))   \n",
    "    plt.close(fig_accu)   \n",
    "            "
   ]
  },
  {
   "cell_type": "code",
   "execution_count": null,
   "metadata": {},
   "outputs": [],
   "source": []
  }
 ],
 "metadata": {
  "kernelspec": {
   "display_name": "segmentation",
   "language": "python",
   "name": "python3"
  },
  "language_info": {
   "codemirror_mode": {
    "name": "ipython",
    "version": 3
   },
   "file_extension": ".py",
   "mimetype": "text/x-python",
   "name": "python",
   "nbconvert_exporter": "python",
   "pygments_lexer": "ipython3",
   "version": "3.7.16"
  }
 },
 "nbformat": 4,
 "nbformat_minor": 2
}
